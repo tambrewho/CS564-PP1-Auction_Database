{
 "cells": [
  {
   "cell_type": "code",
   "execution_count": 1,
   "metadata": {},
   "outputs": [
    {
     "data": {
      "text/plain": [
       "'Connected: @None'"
      ]
     },
     "execution_count": 1,
     "metadata": {},
     "output_type": "execute_result"
    }
   ],
   "source": [
    "%load_ext sql\n",
    "%sql sqlite://"
   ]
  },
  {
   "cell_type": "code",
   "execution_count": 2,
   "metadata": {},
   "outputs": [
    {
     "name": "stdout",
     "output_type": "stream",
     "text": [
      " * sqlite://\n",
      "Done.\n",
      "Done.\n",
      "(sqlite3.OperationalError) near \"DROP\": syntax error\n",
      "[SQL: DROP TABLE IF EXISTS Bids\n",
      "DROP TABLE IF EXISTS Users;]\n",
      "(Background on this error at: http://sqlalche.me/e/e3q8)\n"
     ]
    }
   ],
   "source": [
    "%%sql\n",
    "DROP TABLE IF EXISTS Items;\n",
    "DROP TABLE IF EXISTS Categories;\n",
    "DROP TABLE IF EXISTS Bids\n",
    "DROP TABLE IF EXISTS Users;"
   ]
  },
  {
   "cell_type": "code",
   "execution_count": null,
   "metadata": {},
   "outputs": [],
   "source": [
    "%%sql\n",
    "CREATE TABLE Items(\n",
    "    ItemID INTEGER PRIMARY KEY,\n",
    "    Name STRING,\n",
    "    Currently REAL,\n",
    "    Buy_Price REAL,\n",
    "    First_Bid REAL,\n",
    "    Number_of_Bids INTEGER,\n",
    "    Started \n",
    "\n",
    "    FOREIGN KEY(SellerID) REFERENCES Users(UserID) DEFERRABLE INITIALLY DEFERRED)\n"
   ]
  }
 ],
 "metadata": {
  "kernelspec": {
   "display_name": "Python 3",
   "language": "python",
   "name": "python3"
  },
  "language_info": {
   "codemirror_mode": {
    "name": "ipython",
    "version": 3
   },
   "file_extension": ".py",
   "mimetype": "text/x-python",
   "name": "python",
   "nbconvert_exporter": "python",
   "pygments_lexer": "ipython3",
   "version": "3.7.3"
  }
 },
 "nbformat": 4,
 "nbformat_minor": 2
}
